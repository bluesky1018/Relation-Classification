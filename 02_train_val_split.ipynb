{
 "cells": [
  {
   "cell_type": "code",
   "execution_count": 1,
   "metadata": {
    "collapsed": false
   },
   "outputs": [],
   "source": [
    "import random\n",
    "\n",
    "train_attn_path = './files/train_attn.txt'\n",
    "test_attn_path = './files/test_attn.txt'\n",
    "\n",
    "train_attn_sp_path = './files/train_attn_sp.txt'\n",
    "val_attn_sp_path = './files/val_attn_sp.txt'\n",
    "test_attn_sp_path = './files/test_attn_sp.txt'\n",
    "\n",
    "train_answer_keys_path = './files/train_answer_keys.txt'\n",
    "val_answer_keys_path = './files/val_answer_keys.txt'\n",
    "test_answer_keys_path = './files/test_answer_keys.txt'\n",
    "\n"
   ]
  },
  {
   "cell_type": "code",
   "execution_count": null,
   "metadata": {
    "collapsed": true
   },
   "outputs": [],
   "source": []
  },
  {
   "cell_type": "code",
   "execution_count": 2,
   "metadata": {
    "collapsed": false
   },
   "outputs": [
    {
     "name": "stdout",
     "output_type": "stream",
     "text": [
      "./files/train_attn.txt\n",
      "./files/train_attn_sp.txt\n",
      "./files/test_attn.txt\n",
      "./files/test_attn_sp.txt\n"
     ]
    }
   ],
   "source": [
    "\n",
    "def add_sent_number(file_in, file_out):\n",
    "    print(file_in)\n",
    "    print(file_out)\n",
    "    \n",
    "    f_in = open(file_in, 'r')\n",
    "    lines = f_in.readlines()\n",
    "    f_in.close()\n",
    "    \n",
    "    f_out = open(file_out, 'w')\n",
    "    for i in range(len(lines)):\n",
    "        num = str(int(i+1))\n",
    "        ln = num + \" \" + lines[i]\n",
    "        f_out.write(ln)\n",
    "    f_out.close()\n",
    "    \n",
    "# Call\n",
    "add_sent_number(train_attn_path, train_attn_sp_path)\n",
    "add_sent_number(test_attn_path, test_attn_sp_path)\n"
   ]
  },
  {
   "cell_type": "code",
   "execution_count": 3,
   "metadata": {
    "collapsed": false
   },
   "outputs": [
    {
     "name": "stdout",
     "output_type": "stream",
     "text": [
      "len(val_index) 792\n",
      "val_index[:5] [16, 21, 33, 34, 36]\n"
     ]
    }
   ],
   "source": [
    "\n",
    "def get_val_sent_index(): \n",
    "    \n",
    "    global train_attn_sp_path\n",
    "    \n",
    "    label_to_sent_num = {} \n",
    "\n",
    "    f_in = open(train_attn_sp_path, 'r')\n",
    "    lines = f_in.readlines()\n",
    "    f_in.close()\n",
    "\n",
    "    for l in lines: \n",
    "        l = l.strip().split(\" \")[:2]\n",
    "        num = int(l[0])\n",
    "        lab = str(l[1])\n",
    "\n",
    "        if lab not in label_to_sent_num: \n",
    "            label_to_sent_num[lab] = [] \n",
    "\n",
    "        label_to_sent_num[lab].append(num)\n",
    "\n",
    "\n",
    "    val_index = []\n",
    "\n",
    "    for l in label_to_sent_num:\n",
    "        sent_num = label_to_sent_num[l]\n",
    "        num = int(len(sent_num) / 10)\n",
    "        random.shuffle(sent_num)\n",
    "        random.shuffle(sent_num)\n",
    "        val_index += sent_num[:num]\n",
    "\n",
    "    val_index = sorted(val_index)\n",
    "    print(\"len(val_index)\", len(val_index))\n",
    "    print(\"val_index[:5]\", val_index[:5])\n",
    "    return val_index\n",
    "\n",
    "\n",
    "# Call\n",
    "val_index = get_val_sent_index()"
   ]
  },
  {
   "cell_type": "code",
   "execution_count": 4,
   "metadata": {
    "collapsed": false
   },
   "outputs": [
    {
     "name": "stdout",
     "output_type": "stream",
     "text": [
      "Train - Val - Split \n"
     ]
    }
   ],
   "source": [
    "\n",
    "def train_val_split(val_index):\n",
    "    global train_attn_sp_path, val_attn_sp_path\n",
    "\n",
    "    f_in = open(train_attn_sp_path, 'r')\n",
    "    lines = f_in.readlines()\n",
    "    f_in.close()\n",
    "\n",
    "    f_train = open(train_attn_sp_path, 'w')\n",
    "    f_val = open(val_attn_sp_path, 'w')\n",
    "\n",
    "    for l in lines: \n",
    "        l = l.strip().split(\" \")\n",
    "        num = int(l[0])\n",
    "        lab = str(l[1])\n",
    "        \n",
    "        if num in val_index: \n",
    "            f_val.write(\" \".join(l) + \"\\n\")\n",
    "        else: \n",
    "            f_train.write(\" \".join(l) + \"\\n\")\n",
    "    \n",
    "    f_train.close()\n",
    "    f_val.close()\n",
    "    \n",
    "    print(\"Train - Val - Split \")\n",
    "\n",
    "# Call\n",
    "train_val_split(val_index)"
   ]
  },
  {
   "cell_type": "code",
   "execution_count": 5,
   "metadata": {
    "collapsed": false
   },
   "outputs": [
    {
     "name": "stdout",
     "output_type": "stream",
     "text": [
      "./files/train_attn_sp.txt\n",
      "./files/val_attn_sp.txt\n",
      "8000\n"
     ]
    }
   ],
   "source": [
    "def train_val_total_check(train_attn_sp_path, val_attn_sp_path):\n",
    "\n",
    "    def get_count(file_path): \n",
    "        print(file_path)\n",
    "\n",
    "        label_to_sent_count = {} \n",
    "\n",
    "        f_in = open(file_path, 'r')\n",
    "        lines = f_in.readlines()\n",
    "        f_in.close()\n",
    "\n",
    "        for l in lines: \n",
    "            l = l.strip().split(\" \")[:2]\n",
    "            num = int(l[0])\n",
    "            lab = str(l[1])\n",
    "\n",
    "            if lab not in label_to_sent_count: \n",
    "                label_to_sent_count[lab] = 0 \n",
    "\n",
    "            label_to_sent_count[lab] += 1\n",
    "            \n",
    "        return label_to_sent_count\n",
    "    \n",
    "    train = get_count(train_attn_sp_path)\n",
    "    val = get_count(val_attn_sp_path)\n",
    "    \n",
    "    c = 0\n",
    "    for l in train: \n",
    "        c += train[l]\n",
    "        if l in val:\n",
    "            c += val[l]\n",
    "    \n",
    "    print(c)\n",
    "\n",
    "\n",
    "# Call\n",
    "train_val_total_check(train_attn_sp_path, val_attn_sp_path)"
   ]
  },
  {
   "cell_type": "code",
   "execution_count": null,
   "metadata": {
    "collapsed": false
   },
   "outputs": [],
   "source": []
  },
  {
   "cell_type": "code",
   "execution_count": 6,
   "metadata": {
    "collapsed": false
   },
   "outputs": [],
   "source": [
    "def create_answer_keys(in_file, out_file): \n",
    "    \n",
    "    f_in = open(in_file, 'r')\n",
    "    lines = f_in.readlines()\n",
    "    f_in.close()\n",
    "\n",
    "    f_out = open(out_file, 'w')\n",
    "    \n",
    "    for i in range(0, len(lines)):\n",
    "        l = lines[i].strip().split(\" \")\n",
    "        num = str(i+1)\n",
    "        lab = str(l[1])\n",
    "        f_out.write(num + \"\\t\" + lab) \n",
    "        f_out.write(\"\\n\") \n",
    "    f_out.close()\n",
    "    \n",
    "    print(out_file + \" \" + \"Created\")\n"
   ]
  },
  {
   "cell_type": "code",
   "execution_count": 7,
   "metadata": {
    "collapsed": false
   },
   "outputs": [
    {
     "name": "stdout",
     "output_type": "stream",
     "text": [
      "./files/train_answer_keys.txt Created\n",
      "./files/val_answer_keys.txt Created\n",
      "./files/test_answer_keys.txt Created\n"
     ]
    }
   ],
   "source": [
    "create_answer_keys(train_attn_sp_path, train_answer_keys_path)\n",
    "create_answer_keys(val_attn_sp_path, val_answer_keys_path)\n",
    "create_answer_keys(test_attn_sp_path, test_answer_keys_path)\n"
   ]
  },
  {
   "cell_type": "code",
   "execution_count": null,
   "metadata": {
    "collapsed": true
   },
   "outputs": [],
   "source": []
  }
 ],
 "metadata": {
  "anaconda-cloud": {},
  "kernelspec": {
   "display_name": "Python [default]",
   "language": "python",
   "name": "python3"
  },
  "language_info": {
   "codemirror_mode": {
    "name": "ipython",
    "version": 3
   },
   "file_extension": ".py",
   "mimetype": "text/x-python",
   "name": "python",
   "nbconvert_exporter": "python",
   "pygments_lexer": "ipython3",
   "version": "3.5.4"
  }
 },
 "nbformat": 4,
 "nbformat_minor": 1
}
